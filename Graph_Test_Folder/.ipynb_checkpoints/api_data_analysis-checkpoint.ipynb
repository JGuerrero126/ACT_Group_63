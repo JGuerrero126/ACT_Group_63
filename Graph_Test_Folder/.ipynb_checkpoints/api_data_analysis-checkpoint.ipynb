{
 "cells": [
  {
   "cell_type": "code",
   "execution_count": 31,
   "metadata": {},
   "outputs": [],
   "source": [
    "import requests\n",
    "import json\n",
    "from config import api_key"
   ]
  },
  {
   "cell_type": "code",
   "execution_count": 32,
   "metadata": {},
   "outputs": [],
   "source": [
    "url = f\"https://api.themoviedb.org/3/movie/550?api_key={api_key}\" + \"&t=\""
   ]
  },
  {
   "cell_type": "code",
   "execution_count": 33,
   "metadata": {
    "scrolled": false
   },
   "outputs": [
    {
     "name": "stdout",
     "output_type": "stream",
     "text": [
      "{\"adult\": false, \"backdrop_path\": \"/hZkgoQYus5vegHoetLkCJzb17zJ.jpg\", \"belongs_to_collection\": null, \"budget\": 63000000, \"genres\": [{\"id\": 18, \"name\": \"Drama\"}, {\"id\": 53, \"name\": \"Thriller\"}, {\"id\": 35, \"name\": \"Comedy\"}], \"homepage\": \"http://www.foxmovies.com/movies/fight-club\", \"id\": 550, \"imdb_id\": \"tt0137523\", \"original_language\": \"en\", \"original_title\": \"Fight Club\", \"overview\": \"A ticking-time-bomb insomniac and a slippery soap salesman channel primal male aggression into a shocking new form of therapy. Their concept catches on, with underground \\\"fight clubs\\\" forming in every town, until an eccentric gets in the way and ignites an out-of-control spiral toward oblivion.\", \"popularity\": 87.336, \"poster_path\": \"/pB8BM7pdSp6B6Ih7QZ4DrQ3PmJK.jpg\", \"production_companies\": [{\"id\": 508, \"logo_path\": \"/7cxRWzi4LsVm4Utfpr1hfARNurT.png\", \"name\": \"Regency Enterprises\", \"origin_country\": \"US\"}, {\"id\": 711, \"logo_path\": \"/tEiIH5QesdheJmDAqQwvtN60727.png\", \"name\": \"Fox 2000 Pictures\", \"origin_country\": \"US\"}, {\"id\": 4700, \"logo_path\": \"/A32wmjrs9Psf4zw0uaixF0GXfxq.png\", \"name\": \"The Linson Company\", \"origin_country\": \"US\"}, {\"id\": 20555, \"logo_path\": \"/hD8yEGUBlHOcfHYbujp71vD8gZp.png\", \"name\": \"Taurus Film\", \"origin_country\": \"DE\"}, {\"id\": 54051, \"logo_path\": null, \"name\": \"Atman Entertainment\", \"origin_country\": \"\"}, {\"id\": 54052, \"logo_path\": null, \"name\": \"Knickerbocker Films\", \"origin_country\": \"US\"}], \"production_countries\": [{\"iso_3166_1\": \"DE\", \"name\": \"Germany\"}, {\"iso_3166_1\": \"US\", \"name\": \"United States of America\"}], \"release_date\": \"1999-10-15\", \"revenue\": 100853753, \"runtime\": 139, \"spoken_languages\": [{\"english_name\": \"English\", \"iso_639_1\": \"en\", \"name\": \"English\"}], \"status\": \"Released\", \"tagline\": \"Mischief. Mayhem. Soap.\", \"title\": \"Fight Club\", \"video\": false, \"vote_average\": 8.428, \"vote_count\": 25252}\n"
     ]
    }
   ],
   "source": [
    "response = requests.get(url).json()\n",
    "print(json.dumps(response))"
   ]
  },
  {
   "cell_type": "code",
   "execution_count": 34,
   "metadata": {},
   "outputs": [
    {
     "name": "stdout",
     "output_type": "stream",
     "text": [
      "{'genres': [{'id': 28, 'name': 'Action'}, {'id': 12, 'name': 'Adventure'}, {'id': 16, 'name': 'Animation'}, {'id': 35, 'name': 'Comedy'}, {'id': 80, 'name': 'Crime'}, {'id': 99, 'name': 'Documentary'}, {'id': 18, 'name': 'Drama'}, {'id': 10751, 'name': 'Family'}, {'id': 14, 'name': 'Fantasy'}, {'id': 36, 'name': 'History'}, {'id': 27, 'name': 'Horror'}, {'id': 10402, 'name': 'Music'}, {'id': 9648, 'name': 'Mystery'}, {'id': 10749, 'name': 'Romance'}, {'id': 878, 'name': 'Science Fiction'}, {'id': 10770, 'name': 'TV Movie'}, {'id': 53, 'name': 'Thriller'}, {'id': 10752, 'name': 'War'}, {'id': 37, 'name': 'Western'}]}\n"
     ]
    }
   ],
   "source": [
    "tmdb_genre_list = f\"https://api.themoviedb.org/3/genre/movie/list?api_key={api_key}\"\n",
    "\n",
    "genres_response = requests.get(tmdb_genre_list).json()\n",
    "\n",
    "print(genres_response)"
   ]
  },
  {
   "cell_type": "code",
   "execution_count": 41,
   "metadata": {
    "scrolled": true
   },
   "outputs": [
    {
     "data": {
      "text/plain": [
       "[{'id': 28, 'name': 'Action'},\n",
       " {'id': 12, 'name': 'Adventure'},\n",
       " {'id': 16, 'name': 'Animation'},\n",
       " {'id': 35, 'name': 'Comedy'},\n",
       " {'id': 80, 'name': 'Crime'},\n",
       " {'id': 99, 'name': 'Documentary'},\n",
       " {'id': 18, 'name': 'Drama'},\n",
       " {'id': 10751, 'name': 'Family'},\n",
       " {'id': 14, 'name': 'Fantasy'},\n",
       " {'id': 36, 'name': 'History'},\n",
       " {'id': 27, 'name': 'Horror'},\n",
       " {'id': 10402, 'name': 'Music'},\n",
       " {'id': 9648, 'name': 'Mystery'},\n",
       " {'id': 10749, 'name': 'Romance'},\n",
       " {'id': 878, 'name': 'Science Fiction'},\n",
       " {'id': 10770, 'name': 'TV Movie'},\n",
       " {'id': 53, 'name': 'Thriller'},\n",
       " {'id': 10752, 'name': 'War'},\n",
       " {'id': 37, 'name': 'Western'}]"
      ]
     },
     "execution_count": 41,
     "metadata": {},
     "output_type": "execute_result"
    }
   ],
   "source": [
    "genres_response['genres']"
   ]
  },
  {
   "cell_type": "code",
   "execution_count": null,
   "metadata": {},
   "outputs": [],
   "source": []
  }
 ],
 "metadata": {
  "kernelspec": {
   "display_name": "Python 3",
   "language": "python",
   "name": "python3"
  },
  "language_info": {
   "codemirror_mode": {
    "name": "ipython",
    "version": 3
   },
   "file_extension": ".py",
   "mimetype": "text/x-python",
   "name": "python",
   "nbconvert_exporter": "python",
   "pygments_lexer": "ipython3",
   "version": "3.8.5"
  }
 },
 "nbformat": 4,
 "nbformat_minor": 4
}
